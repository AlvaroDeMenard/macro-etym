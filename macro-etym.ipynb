{
 "cells": [
  {
   "cell_type": "code",
   "execution_count": 70,
   "metadata": {
    "collapsed": false
   },
   "outputs": [],
   "source": [
    "import pandas as pd\n",
    "import sh\n",
    "from collections import Counter\n",
    "from nltk import word_tokenize\n",
    "from string import punctuation\n",
    "from pycountry import languages\n",
    "from nltk.corpus import stopwords\n",
    "%matplotlib inline\n",
    "import matplotlib\n",
    "matplotlib.style.use('ggplot')"
   ]
  },
  {
   "cell_type": "markdown",
   "metadata": {},
   "source": [
    "I made the file below, etymwn-smaller.tsv, by running these unix commands: \n",
    "\n",
    "First, get only those entries with the relation \"rel:etymology\": \n",
    "\n",
    "```sh\n",
    "    grep \"rel:etymology\" etymwn.tsv > etymwn-small.tsv \n",
    "```\n",
    "\n",
    "Now we can remove the relation column, since it's all \"rel:etymology\": \n",
    "\n",
    "```sh\n",
    "    cat etymwn-small.tsv | cut -f1,3 > etymwn-smaller.tsv\n",
    "```"
   ]
  },
  {
   "cell_type": "code",
   "execution_count": 2,
   "metadata": {
    "collapsed": false
   },
   "outputs": [],
   "source": [
    "etymwn=pd.read_csv('etymwn-smaller.tsv', sep='\\t')\n",
    "etymwn.columns = ['word', 'parent']"
   ]
  },
  {
   "cell_type": "code",
   "execution_count": 66,
   "metadata": {
    "collapsed": false
   },
   "outputs": [],
   "source": [
    "class LangList():\n",
    "    def __init__(self, langs): \n",
    "        self.langs = langs\n",
    "        \n",
    "    @property\n",
    "    def stats(self): \n",
    "        counter = Counter(self.langs)\n",
    "        stats = {}\n",
    "        for lang in counter.keys(): \n",
    "            stats[lang] = (counter[lang] / len(self.langs))*100 \n",
    "        return stats\n",
    "    \n",
    "    def __repr__(self): \n",
    "        return str(self.langs)\n",
    "\n",
    "class Word(): \n",
    "    def __init__(self, word, lang='eng'): \n",
    "        self.lang = lang\n",
    "        self.word = word\n",
    "        \n",
    "    def __repr__(self): \n",
    "        return '%s (%s)' % (self.word, self.lang)\n",
    "    \n",
    "    def __str__(self): \n",
    "        return self.word\n",
    "    \n",
    "    @property\n",
    "    def parents(self, language=\"eng\"): \n",
    "        word = self.word\n",
    "        # Finds the first-generation ancestor(s) of a word. \n",
    "        rawParentList = etymwn[etymwn['word']==language + \": \" + word]['parent'].tolist()\n",
    "        return [self.split(parent) for parent in rawParentList] \n",
    "    \n",
    "    @property\n",
    "    def parentLanguages(self):\n",
    "        parentLangs = []\n",
    "        for parent in self.parents: \n",
    "            parentLangs.append(parent.lang)\n",
    "        return LangList(parentLangs)\n",
    "    \n",
    "    @property\n",
    "    def grandparents(self, language=\"eng\"): \n",
    "        grandparents = []\n",
    "        for parent in self.parents: \n",
    "            grandparents.append(Word(parent.word).parents)\n",
    "        return grandparents\n",
    "    \n",
    "    @property\n",
    "    def grandparentLanguages(self):\n",
    "        grandparentLangs = []\n",
    "        for grandparentList in self.grandparents: \n",
    "            for grandparent in grandparentList: \n",
    "                grandparentLangs.append(grandparent.lang)\n",
    "        return LangList(grandparentLangs)\n",
    "    \n",
    "    def split(self, expression): \n",
    "        \"\"\" Takes and expression in the form 'enm: not' and returns \n",
    "        a Word object where word.lang is 'enm' and word.word is 'not'. \n",
    "        \"\"\"\n",
    "        parts = expression.split(':')\n",
    "        return Word(parts[1].strip(), parts[0])\n",
    "\n",
    "class Text():\n",
    "    def __init__(self, text, lang='eng'): \n",
    "        self.text = text\n",
    "        self.lang = lang\n",
    "    \n",
    "    @property\n",
    "    def tokens(self): \n",
    "        return word_tokenize(self.text)\n",
    "        \n",
    "    @property\n",
    "    def cleanTokens(self, removeStopwords=True): \n",
    "        nopunct = [token for token in self.tokens if token not in punctuation]\n",
    "        nonum = [token for token in nopunct if token.isalpha()]\n",
    "        if removeStopwords:\n",
    "            nonum = self.removeStopwords(nonum)\n",
    "        return nonum\n",
    "    \n",
    "    def removeStopwords(self, tokens): \n",
    "        availableStopwords = \"danish english french hungarian norwegian spanish \"\\\n",
    "        \"turkish dutch finnish german italian portuguese russian swedish\".split()\n",
    "        stopDict = {lang[:3]: lang for lang in availableStopwords}\n",
    "        if self.lang in stopDict: \n",
    "            stops = stopwords.words(stopDict[self.lang])\n",
    "            return [token for token in tokens if token not in stops]\n",
    "        else: \n",
    "            return tokens\n",
    "\n",
    "    @property\n",
    "    def types(self): \n",
    "        return set(self.cleanTokens)\n",
    "    \n",
    "    @property\n",
    "    def wordObjects(self): \n",
    "        return [Word(token) for token in self.types]\n",
    "    \n",
    "    def showMacroEtym(self): \n",
    "        for word in self.wordObjects: \n",
    "            print(word, word.parents)\n",
    "    \n",
    "    @property\n",
    "    def stats(self, pretty=True): \n",
    "        statsList = [word.parentLanguages.stats for word in self.wordObjects]\n",
    "        stats = {}\n",
    "        for item in statsList: \n",
    "            if len(item) > 0: \n",
    "                for lang, perc in item.items(): \n",
    "                    if lang not in stats: \n",
    "                        stats[lang] = perc\n",
    "                    else: \n",
    "                        stats[lang] += perc\n",
    "        allPercs = sum(stats.values())\n",
    "        for lang, perc in stats.items(): \n",
    "            stats[lang] = ( perc / allPercs ) * 100\n",
    "        \n",
    "        if pretty:\n",
    "            prettyStats = {}\n",
    "            for lang, perc in stats.items(): \n",
    "                prettyLang = languages.get(iso639_3_code=lang).name\n",
    "                prettyStats[prettyLang] = round(perc, 2) # rename the key\n",
    "            return prettyStats\n",
    "        else: \n",
    "            return stats\n",
    "    \n",
    "    def showPie(self):\n",
    "        pd.Series(self.stats).plot(kind='pie', figsize=(6,6))"
   ]
  },
  {
   "cell_type": "code",
   "execution_count": 40,
   "metadata": {
    "collapsed": false
   },
   "outputs": [
    {
     "data": {
      "text/plain": [
       "[-ly (eng), universal (eng)]"
      ]
     },
     "execution_count": 40,
     "metadata": {},
     "output_type": "execute_result"
    }
   ],
   "source": [
    "Word('universally').parents"
   ]
  },
  {
   "cell_type": "code",
   "execution_count": 41,
   "metadata": {
    "collapsed": false
   },
   "outputs": [
    {
     "data": {
      "text/plain": [
       "[[-lice (ang), -ly (enm)], [universalis (lat)]]"
      ]
     },
     "execution_count": 41,
     "metadata": {},
     "output_type": "execute_result"
    }
   ],
   "source": [
    "Word('universally').grandparents"
   ]
  },
  {
   "cell_type": "code",
   "execution_count": 45,
   "metadata": {
    "collapsed": false
   },
   "outputs": [
    {
     "data": {
      "text/plain": [
       "{'ang': 33.33333333333333, 'enm': 33.33333333333333, 'lat': 33.33333333333333}"
      ]
     },
     "execution_count": 45,
     "metadata": {},
     "output_type": "execute_result"
    }
   ],
   "source": [
    "Word('universally').grandparentLanguages.stats"
   ]
  },
  {
   "cell_type": "code",
   "execution_count": 71,
   "metadata": {
    "collapsed": false
   },
   "outputs": [
    {
     "name": "stdout",
     "output_type": "stream",
     "text": [
      "want [wanten (enm)]\n",
      "wife [wif (enm)]\n",
      "man [man (enm), mannen (enm)]\n",
      "acknowledged []\n",
      "possession [possessio (lat)]\n",
      "must [moste (enm), مست (fas), must (fro)]\n",
      "truth []\n",
      "universally [-ly (eng), universal (eng)]\n",
      "It []\n",
      "single [sengle (enm)]\n",
      "fortune [fortuna (lat)]\n",
      "good [goden (enm), good (enm), goode (enm)]\n"
     ]
    }
   ],
   "source": [
    "t = Text('It is a truth universally acknowledged, that a single man in possession of a good fortune,'\\\n",
    "         'must be in want of a wife.')\n",
    "t.showMacroEtym()"
   ]
  },
  {
   "cell_type": "code",
   "execution_count": 74,
   "metadata": {
    "collapsed": false
   },
   "outputs": [
    {
     "data": {
      "image/png": "[encoded data removed]",
      "text/plain": [
       "<matplotlib.figure.Figure at 0x7f96aaa2bb70>"
      ]
     },
     "metadata": {},
     "output_type": "display_data"
    }
   ],
   "source": [
    "t.showPie()\n",
    "# TODO: make colors prettier"
   ]
  },
  {
   "cell_type": "code",
   "execution_count": null,
   "metadata": {
    "collapsed": true
   },
   "outputs": [],
   "source": []
  }
 ],
 "metadata": {
  "kernelspec": {
   "display_name": "Python 3",
   "language": "python",
   "name": "python3"
  },
  "language_info": {
   "codemirror_mode": {
    "name": "ipython",
    "version": 3
   },
   "file_extension": ".py",
   "mimetype": "text/x-python",
   "name": "python",
   "nbconvert_exporter": "python",
   "pygments_lexer": "ipython3",
   "version": "3.5.1"
  }
 },
 "nbformat": 4,
 "nbformat_minor": 0
}
