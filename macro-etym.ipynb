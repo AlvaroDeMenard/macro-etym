{
 "cells": [
  {
   "cell_type": "code",
   "execution_count": 2,
   "metadata": {
    "collapsed": false
   },
   "outputs": [],
   "source": [
    "import csv                                 # to parse the Etymological Wordnet CSV file\n",
    "from collections import Counter            # to count things\n",
    "from nltk import word_tokenize             # for breaking texts into words\n",
    "from nltk.tag import pos_tag               # for detecting parts of speech\n",
    "from nltk.stem import WordNetLemmatizer    # for getting dictionary forms of words\n",
    "from string import punctuation             # for cleaning texts\n",
    "from pycountry import languages            # to look up ISO language codes\n",
    "from nltk.corpus import stopwords          # to remove unnecessary words\n",
    "from nltk.corpus import wordnet            \n",
    "import pandas as pd                        # for pretty charts\n",
    "import matplotlib                          # also for pretty charts\n",
    "%matplotlib inline                         \n",
    "matplotlib.style.use('ggplot')             # make the charts look nicer"
   ]
  },
  {
   "cell_type": "markdown",
   "metadata": {},
   "source": [
    "I made the file below, etymwn-smaller.tsv, by running these unix commands: \n",
    "\n",
    "First, get only those entries with the relation \"rel:etymology\": \n",
    "\n",
    "```sh\n",
    "    grep \"rel:etymology\" etymwn.tsv > etymwn-small.tsv \n",
    "```\n",
    "\n",
    "Now we can remove the relation column, since it's all \"rel:etymology\": \n",
    "\n",
    "```sh\n",
    "    cat etymwn-small.tsv | cut -f1,3 > etymwn-smaller.tsv\n",
    "```"
   ]
  },
  {
   "cell_type": "code",
   "execution_count": 3,
   "metadata": {
    "collapsed": false
   },
   "outputs": [],
   "source": [
    "# Parse the CSV file. \n",
    "etymdict = {}\n",
    "with open('etymwn-smaller.tsv') as csvfile:\n",
    "    csvreader = csv.reader(csvfile, delimiter='\\t')\n",
    "    for line in csvreader:\n",
    "        if line[0] in etymdict: \n",
    "            etymdict[line[0]].append(line[1])\n",
    "        else: \n",
    "            etymdict[line[0]] = [line[1]]"
   ]
  },
  {
   "cell_type": "code",
   "execution_count": 63,
   "metadata": {
    "collapsed": false
   },
   "outputs": [],
   "source": [
    "class LangList():\n",
    "    def __init__(self, langs): \n",
    "        self.langs = langs\n",
    "            \n",
    "    def __repr__(self): \n",
    "        return str(self.langs)\n",
    "    \n",
    "    @property\n",
    "    def stats(self): \n",
    "        counter = Counter(self.langs)\n",
    "        stats = {}\n",
    "        for lang in counter.keys(): \n",
    "            stats[lang] = (counter[lang] / len(self.langs))*100 \n",
    "        return stats\n",
    "\n",
    "class Word(): \n",
    "    def __init__(self, word, lang='eng'): \n",
    "        self.lang = lang\n",
    "        self.word = word\n",
    "        \n",
    "    def __repr__(self): \n",
    "        return '%s (%s)' % (self.word, self.lang)\n",
    "    \n",
    "    def __str__(self): \n",
    "        return self.word\n",
    "        \n",
    "    def oldVersions(self, language): \n",
    "        \"\"\"\n",
    "        Returns a list of older versions of a language, such that given \"eng\" (Modern English)\n",
    "        it will return \"enm\" (Middle English). This is used for filtering out current languages\n",
    "        in the ignoreSelf option of parents() below. \n",
    "        \"\"\"\n",
    "        if language == 'eng': \n",
    "            return ['enm']\n",
    "        if language == 'fra': \n",
    "            return ['frm', 'xno'] # Middle French\n",
    "        if language == 'dut':\n",
    "            return ['dum'] # Middle Dutch\n",
    "        if language == 'gle': # Irish\n",
    "            return ['mga'] # Middle Irish \n",
    "        # TODO: add other languages here. \n",
    "        else: \n",
    "            return []\n",
    "        \n",
    "    @property\n",
    "    def parents(self, ignoreAffixes=True, ignoreSelf=False):\n",
    "        \"\"\" \n",
    "        ignoreAffixes will remove suffixes like -ly, so that the parent list for\n",
    "        \"universally\" returns \"universal (eng)\" instead of \"universal (eng), -ly (eng).\" \n",
    "        \n",
    "        ignoreSelf will ignore etymologies in the current language and slightly older versions of\n",
    "        that language, so that it skips \"universal (eng),\" and goes straight to the good\n",
    "        stuff, i.e. \"universalis (lat).\" Given a word in English, it will skip all other\n",
    "        English and Middle English ancestors, but won't skip Old English. \n",
    "        \"\"\"\n",
    "        word = self.word\n",
    "        language = self.lang\n",
    "        \n",
    "        # Finds the first-generation ancestor(s) of a word. \n",
    "        #rawParentList = etymwn[etymwn['word']==language + \": \" + word]['parent'].tolist()\n",
    "        try: \n",
    "            rawParentList = etymdict[language + \": \" + word]\n",
    "        except: \n",
    "            rawParentList = []\n",
    "        parentList = [self.split(parent) for parent in rawParentList] \n",
    "        if ignoreAffixes: \n",
    "            parentList = [p for p in parentList if p.word[0] is not '-']\n",
    "            parentList = [p for p in parentList if p.word[-1] is not '-']\n",
    "        if ignoreSelf: \n",
    "            newParents = [] \n",
    "            for parent in parentList: \n",
    "                print('looking up %s' % parent)\n",
    "                if parent.lang == language or parent.lang in self.oldVersions(language): \n",
    "                    print('%s is current language or olderversion' % parent.lang)\n",
    "                    for otherParent in parent.parents: # Go deeper. \n",
    "                        newParents.append(otherParent)\n",
    "                else: \n",
    "                    newParents.append(parent)\n",
    "            parentList = newParents\n",
    "        return parentList\n",
    "        \n",
    "    @property\n",
    "    def parentLanguages(self):\n",
    "        parentLangs = []\n",
    "        for parent in self.parents: \n",
    "            parentLangs.append(parent.lang)\n",
    "        return LangList(parentLangs)\n",
    "    \n",
    "    @property\n",
    "    def grandparents(self): \n",
    "        return [Word(parent.word, lang=parent.lang).parents for parent in self.parents]\n",
    "    \n",
    "    @property\n",
    "    def grandparentLanguages(self):\n",
    "        grandparentLangs = []\n",
    "        for grandparentList in self.grandparents: \n",
    "            for grandparent in grandparentList: \n",
    "                grandparentLangs.append(grandparent.lang)\n",
    "        return LangList(grandparentLangs)\n",
    "    \n",
    "    def split(self, expression): \n",
    "        \"\"\" Takes and expression in the form 'enm: not' and returns \n",
    "        a Word object where word.lang is 'enm' and word.word is 'not'. \n",
    "        \"\"\"\n",
    "        parts = expression.split(':')\n",
    "        return Word(parts[1].strip(), parts[0])\n",
    "\n",
    "class Text():\n",
    "    def __init__(self, text, lang='eng'): \n",
    "        self.text = text\n",
    "        self.lang = lang\n",
    "    \n",
    "    @property\n",
    "    def tokens(self): \n",
    "        return word_tokenize(self.text)\n",
    "        \n",
    "    @property\n",
    "    def cleanTokens(self, removeStopwords=True): \n",
    "        clean = [token for token in self.tokens if token not in punctuation]\n",
    "        clean = [token.lower() for token in clean]\n",
    "        clean = [token for token in clean if token.isalpha()]\n",
    "        if removeStopwords:\n",
    "            clean = self.removeStopwords(clean)\n",
    "        return clean\n",
    "    \n",
    "    def removeStopwords(self, tokens): \n",
    "        availableStopwords = \"danish english french hungarian norwegian spanish \"\\\n",
    "        \"turkish dutch finnish german italian portuguese russian swedish\".split()\n",
    "        stopDict = {lang[:3]: lang for lang in availableStopwords}\n",
    "        if self.lang in stopDict: \n",
    "            stops = stopwords.words(stopDict[self.lang])\n",
    "            return [token for token in tokens if token not in stops]\n",
    "        else: \n",
    "            return tokens\n",
    "\n",
    "    @property\n",
    "    def types(self): \n",
    "        return set(self.cleanTokens)\n",
    "    \n",
    "    @property\n",
    "    def posTags(self):\n",
    "        return pos_tag(self.types)\n",
    "    \n",
    "    @property\n",
    "    def lemmas(self): \n",
    "        wordnetLemmatizer = WordNetLemmatizer()\n",
    "        lemmas = []\n",
    "        for word, pos in self.posTags:\n",
    "            pos = self.get_wordnet_pos(pos)\n",
    "            if pos == '': \n",
    "                pos = 'n'\n",
    "            lemmas.append(wordnetLemmatizer.lemmatize(word, pos))\n",
    "        return lemmas\n",
    "    \n",
    "    def get_wordnet_pos(self, treebank_tag):\n",
    "        if treebank_tag.startswith('J'):\n",
    "            return wordnet.ADJ\n",
    "        elif treebank_tag.startswith('V'):\n",
    "            return wordnet.VERB\n",
    "        elif treebank_tag.startswith('N'):\n",
    "            return wordnet.NOUN\n",
    "        elif treebank_tag.startswith('R'):\n",
    "            return wordnet.ADV\n",
    "        else:\n",
    "            return ''\n",
    "        \n",
    "    @property\n",
    "    def wordObjects(self): \n",
    "        return [Word(token) for token in self.lemmas]\n",
    "    \n",
    "    def showMacroEtym(self): \n",
    "        for word in self.wordObjects: \n",
    "            print(word, word.parents)\n",
    "    \n",
    "    def getStats(self, pretty=False): \n",
    "        statsList = [word.parentLanguages.stats for word in self.wordObjects]\n",
    "        stats = {}\n",
    "        for item in statsList: \n",
    "            if len(item) > 0: \n",
    "                for lang, perc in item.items(): \n",
    "                    if lang not in stats: \n",
    "                        stats[lang] = perc\n",
    "                    else: \n",
    "                        stats[lang] += perc\n",
    "        allPercs = sum(stats.values())\n",
    "        for lang, perc in stats.items(): \n",
    "            stats[lang] = ( perc / allPercs ) * 100\n",
    "        \n",
    "        if pretty:\n",
    "            prettyStats = {}\n",
    "            for lang, perc in stats.items(): \n",
    "                prettyLang = languages.get(iso639_3_code=lang).name\n",
    "                prettyStats[prettyLang] = round(perc, 2) # rename the key\n",
    "            return prettyStats\n",
    "        else: \n",
    "            return stats\n",
    "\n",
    "    langDict = {'Germanic': ['eng', 'enm', 'ang', 'deu', 'dut', 'nld', 'dum', 'non', 'gml'],\n",
    "                'Latinate': ['fra', 'frm', 'fro', 'lat', 'spa', 'xno'], \n",
    "                'Indo-Iranian': ['hin', 'fas'],\n",
    "                'Celtic': ['gle'],\n",
    "                'Hellenic': ['grc'],\n",
    "                'Semitic': ['ara', 'heb']}\n",
    "    \n",
    "    def getFamily(self, language): \n",
    "        for family, children in self.langDict.items(): \n",
    "            if language in children: \n",
    "                return family\n",
    "        return 'Other'\n",
    "    \n",
    "    def getFamilyStats(self): \n",
    "        stats = self.getStats()\n",
    "        families = {}\n",
    "        for lang, perc in stats.items(): \n",
    "            fam = self.getFamily(lang)\n",
    "            print( fam, lang, perc)\n",
    "            if fam in families: \n",
    "                families[fam].append((lang, perc))\n",
    "            else: \n",
    "                families[fam] = [(lang, perc)]\n",
    "        return families\n",
    "    \n",
    "    def compileFamilyStats(self): \n",
    "        families = self.getFamilyStats()\n",
    "        totals = {}\n",
    "        for family, langs in families.items(): \n",
    "            totals[family] = 0\n",
    "            for lang in langs: \n",
    "                totals[family] += lang[1]\n",
    "        return totals\n",
    "    \n",
    "    @property\n",
    "    def stats(self): \n",
    "        return self.getStats()\n",
    "    \n",
    "    def prettyStats(self): \n",
    "        return self.getStats(pretty=True)\n",
    "    \n",
    "    @property\n",
    "    def familyStats(self): \n",
    "        return self.compileFamilyStats()\n",
    "\n",
    "    def showPie(self):\n",
    "        pd.Series(self.familyStats).plot(kind='pie', figsize=(6,6))"
   ]
  },
  {
   "cell_type": "code",
   "execution_count": 5,
   "metadata": {
    "collapsed": false
   },
   "outputs": [
    {
     "data": {
      "text/plain": [
       "[universalis (lat)]"
      ]
     },
     "execution_count": 5,
     "metadata": {},
     "output_type": "execute_result"
    }
   ],
   "source": [
    "Word('universally').parents"
   ]
  },
  {
   "cell_type": "code",
   "execution_count": 24,
   "metadata": {
    "collapsed": false
   },
   "outputs": [
    {
     "data": {
      "text/plain": [
       "[povre (enm)]"
      ]
     },
     "execution_count": 24,
     "metadata": {},
     "output_type": "execute_result"
    }
   ],
   "source": [
    "Word('povre', 'enm').parents"
   ]
  },
  {
   "cell_type": "code",
   "execution_count": 7,
   "metadata": {
    "collapsed": false
   },
   "outputs": [
    {
     "data": {
      "text/plain": [
       "{'lat': 100.0}"
      ]
     },
     "execution_count": 7,
     "metadata": {},
     "output_type": "execute_result"
    }
   ],
   "source": [
    "Word('universally').parentLanguages.stats"
   ]
  },
  {
   "cell_type": "code",
   "execution_count": null,
   "metadata": {
    "collapsed": false
   },
   "outputs": [],
   "source": [
    "Word('admiration').parents"
   ]
  },
  {
   "cell_type": "code",
   "execution_count": 48,
   "metadata": {
    "collapsed": false
   },
   "outputs": [
    {
     "data": {
      "text/plain": [
       "{'eng': 11.111111111111112,\n",
       " 'enm': 59.25925925925925,\n",
       " 'fas': 3.7037037037037033,\n",
       " 'fro': 3.7037037037037033,\n",
       " 'lat': 22.222222222222225}"
      ]
     },
     "execution_count": 48,
     "metadata": {},
     "output_type": "execute_result"
    }
   ],
   "source": [
    "t = Text('It is a truth universally acknowledged, that a single man in possession of a good fortune,'\\\n",
    "         'must be in want of a wife.')\n",
    "t.stats"
   ]
  },
  {
   "cell_type": "code",
   "execution_count": 49,
   "metadata": {
    "collapsed": false
   },
   "outputs": [
    {
     "name": "stdout",
     "output_type": "stream",
     "text": [
      "Iranian fas 3.7037037037037033\n",
      "Germanic eng 11.111111111111112\n",
      "Germanic enm 59.25925925925925\n",
      "Latinate lat 22.222222222222225\n",
      "Latinate fro 3.7037037037037033\n"
     ]
    },
    {
     "data": {
      "text/plain": [
       "{'Germanic': 70.37037037037037,\n",
       " 'Iranian': 3.7037037037037033,\n",
       " 'Latinate': 25.925925925925927}"
      ]
     },
     "execution_count": 49,
     "metadata": {},
     "output_type": "execute_result"
    }
   ],
   "source": [
    "t = Text('It is a truth universally acknowledged, that a single man in possession of a good fortune,'\\\n",
    "         'must be in want of a wife.')\n",
    "t.familyStats"
   ]
  },
  {
   "cell_type": "code",
   "execution_count": 88,
   "metadata": {
    "collapsed": false
   },
   "outputs": [
    {
     "data": {
      "text/plain": [
       "'Hungarian'"
      ]
     },
     "execution_count": 88,
     "metadata": {},
     "output_type": "execute_result"
    }
   ],
   "source": [
    "languages.get(iso639_3_code='hun').name"
   ]
  },
  {
   "cell_type": "code",
   "execution_count": 15,
   "metadata": {
    "collapsed": false
   },
   "outputs": [
    {
     "name": "stdout",
     "output_type": "stream",
     "text": [
      "looking up counten\n"
     ]
    },
    {
     "data": {
      "text/plain": [
       "{'Anglo-Norman': 25.0,\n",
       " 'French': 25.0,\n",
       " 'French, Middle (ca. 1400-1600)': 25.0,\n",
       " 'Latin': 25.0}"
      ]
     },
     "execution_count": 15,
     "metadata": {},
     "output_type": "execute_result"
    }
   ],
   "source": [
    "t = Text('\"What is it that is magnificent?\" and the count bent his eyes in various '\\\n",
    "         'directions in quest of the object of her admiration.')\n",
    "t.prettyStats()"
   ]
  },
  {
   "cell_type": "code",
   "execution_count": 64,
   "metadata": {
    "collapsed": true
   },
   "outputs": [],
   "source": [
    "mobyRaw = open('moby-small.txt').read()\n",
    "moby = Text(mobyRaw)"
   ]
  },
  {
   "cell_type": "code",
   "execution_count": 66,
   "metadata": {
    "collapsed": false
   },
   "outputs": [
    {
     "data": {
      "text/plain": [
       "{'ang': 12.156357388316147,\n",
       " 'ara': 0.25773195876288657,\n",
       " 'dum': 0.3865979381443298,\n",
       " 'eng': 12.62886597938144,\n",
       " 'enm': 51.33161512027491,\n",
       " 'fas': 0.3436426116838487,\n",
       " 'fra': 3.4364261168384878,\n",
       " 'frm': 1.417525773195876,\n",
       " 'fro': 5.756013745704466,\n",
       " 'gle': 0.12886597938144329,\n",
       " 'gml': 0.08591065292096217,\n",
       " 'grc': 0.25773195876288657,\n",
       " 'heb': 0.3865979381443298,\n",
       " 'hin': 0.12886597938144329,\n",
       " 'lat': 6.357388316151201,\n",
       " 'nld': 0.25773195876288657,\n",
       " 'non': 0.3436426116838487,\n",
       " 'spa': 0.25773195876288657,\n",
       " 'xno': 4.080756013745704}"
      ]
     },
     "execution_count": 66,
     "metadata": {},
     "output_type": "execute_result"
    }
   ],
   "source": [
    "moby.stats"
   ]
  },
  {
   "cell_type": "code",
   "execution_count": 25,
   "metadata": {
    "collapsed": false
   },
   "outputs": [
    {
     "data": {
      "text/plain": [
       "{'Anglo-Norman': 4.08,\n",
       " 'Arabic': 0.26,\n",
       " 'Dutch': 0.26,\n",
       " 'Dutch, Middle (ca. 1050-1350)': 0.39,\n",
       " 'English': 12.63,\n",
       " 'English, Middle (1100-1500)': 51.33,\n",
       " 'English, Old (ca. 450-1100)': 12.16,\n",
       " 'French': 3.44,\n",
       " 'French, Middle (ca. 1400-1600)': 1.42,\n",
       " 'French, Old (842-ca. 1400)': 5.76,\n",
       " 'German, Middle Low': 0.09,\n",
       " 'Greek, Ancient (to 1453)': 0.26,\n",
       " 'Hebrew': 0.39,\n",
       " 'Hindi': 0.13,\n",
       " 'Irish': 0.13,\n",
       " 'Latin': 6.36,\n",
       " 'Norse, Old': 0.34,\n",
       " 'Persian': 0.34,\n",
       " 'Spanish': 0.26}"
      ]
     },
     "execution_count": 25,
     "metadata": {},
     "output_type": "execute_result"
    }
   ],
   "source": []
  },
  {
   "cell_type": "code",
   "execution_count": 36,
   "metadata": {
    "collapsed": false
   },
   "outputs": [
    {
     "data": {
      "text/plain": [
       "{'Germanic': 76.46048109965635,\n",
       " 'Iranian': 0.3436426116838487,\n",
       " 'Latinate': 16.96735395189003,\n",
       " 'Other': 6.228522336769759}"
      ]
     },
     "execution_count": 36,
     "metadata": {},
     "output_type": "execute_result"
    }
   ],
   "source": [
    "moby.familyStats"
   ]
  },
  {
   "cell_type": "code",
   "execution_count": 29,
   "metadata": {
    "collapsed": false
   },
   "outputs": [
    {
     "data": {
      "image/png": "[encoded data removed]",
      "text/plain": [
       "<matplotlib.figure.Figure at 0x7fa21c17d6a0>"
      ]
     },
     "metadata": {},
     "output_type": "display_data"
    }
   ],
   "source": [
    "moby.showPie()\n",
    "# TODO: make colors prettier"
   ]
  },
  {
   "cell_type": "code",
   "execution_count": 30,
   "metadata": {
    "collapsed": true
   },
   "outputs": [],
   "source": [
    "def analyze(file): \n",
    "    with open(file) as f: \n",
    "        text = f.read()\n",
    "    t = Text(text)\n",
    "    t.showPie()"
   ]
  },
  {
   "cell_type": "code",
   "execution_count": 32,
   "metadata": {
    "collapsed": false
   },
   "outputs": [
    {
     "data": {
      "image/png": "[encoded data removed]",
      "text/plain": [
       "<matplotlib.figure.Figure at 0x7fa218e35fd0>"
      ]
     },
     "metadata": {},
     "output_type": "display_data"
    }
   ],
   "source": [
    "analyze('moby.txt')"
   ]
  },
  {
   "cell_type": "code",
   "execution_count": 91,
   "metadata": {
    "collapsed": false
   },
   "outputs": [],
   "source": [
    "d = {'Latinate': 62.10878962536022, 'Uralic': 0.028818443804034585, 'Balto-Slavic': 0.028818443804034585, 'Indo-Iranian': 0.14169068203650337, 'Celtic': 0.12968299711815562, 'Austronesian': 0.03602305475504323, 'Semitic': 0.21613832853025935, 'Other': 0.23775216138328528, 'Japonic': 0.019212295869356386, 'Turkic': 0.08645533141210375, 'Hellenic': 0.994236311239193, 'Germanic': 35.972382324687786}"
   ]
  },
  {
   "cell_type": "code",
   "execution_count": 92,
   "metadata": {
    "collapsed": false
   },
   "outputs": [
    {
     "data": {
      "text/plain": [
       "{'Austronesian': 0.03602305475504323,\n",
       " 'Balto-Slavic': 0.028818443804034585,\n",
       " 'Celtic': 0.12968299711815562,\n",
       " 'Germanic': 35.972382324687786,\n",
       " 'Hellenic': 0.994236311239193,\n",
       " 'Indo-Iranian': 0.14169068203650337,\n",
       " 'Japonic': 0.019212295869356386,\n",
       " 'Latinate': 62.10878962536022,\n",
       " 'Other': 0.23775216138328528,\n",
       " 'Semitic': 0.21613832853025935,\n",
       " 'Turkic': 0.08645533141210375,\n",
       " 'Uralic': 0.028818443804034585}"
      ]
     },
     "execution_count": 92,
     "metadata": {},
     "output_type": "execute_result"
    }
   ],
   "source": [
    "d"
   ]
  },
  {
   "cell_type": "code",
   "execution_count": 96,
   "metadata": {
    "collapsed": true
   },
   "outputs": [],
   "source": [
    "import pprint"
   ]
  },
  {
   "cell_type": "code",
   "execution_count": 97,
   "metadata": {
    "collapsed": false
   },
   "outputs": [],
   "source": [
    "pp = pprint.PrettyPrinter()"
   ]
  },
  {
   "cell_type": "code",
   "execution_count": 98,
   "metadata": {
    "collapsed": false
   },
   "outputs": [
    {
     "name": "stdout",
     "output_type": "stream",
     "text": [
      "{'Austronesian': 0.03602305475504323,\n",
      " 'Balto-Slavic': 0.028818443804034585,\n",
      " 'Celtic': 0.12968299711815562,\n",
      " 'Germanic': 35.972382324687786,\n",
      " 'Hellenic': 0.994236311239193,\n",
      " 'Indo-Iranian': 0.14169068203650337,\n",
      " 'Japonic': 0.019212295869356386,\n",
      " 'Latinate': 62.10878962536022,\n",
      " 'Other': 0.23775216138328528,\n",
      " 'Semitic': 0.21613832853025935,\n",
      " 'Turkic': 0.08645533141210375,\n",
      " 'Uralic': 0.028818443804034585}\n"
     ]
    }
   ],
   "source": [
    "pp.pprint(d"
   ]
  },
  {
   "cell_type": "code",
   "execution_count": 104,
   "metadata": {
    "collapsed": false
   },
   "outputs": [],
   "source": [
    "rounded = {}\n",
    "for key, value in d.items(): \n",
    "    rounded[key] = str(round(value, 2)) + \"%\""
   ]
  },
  {
   "cell_type": "code",
   "execution_count": 109,
   "metadata": {
    "collapsed": false
   },
   "outputs": [
    {
     "data": {
      "text/plain": [
       "['Latinate',\n",
       " 'Germanic',\n",
       " 'Hellenic',\n",
       " 'Other',\n",
       " 'Semitic',\n",
       " 'Indo-Iranian',\n",
       " 'Celtic',\n",
       " 0.08645533141210375,\n",
       " 'Turkic',\n",
       " 'Austronesian',\n",
       " 'Uralic',\n",
       " 'Balto-Slavic',\n",
       " 'Japonic']"
      ]
     },
     "execution_count": 109,
     "metadata": {},
     "output_type": "execute_result"
    }
   ],
   "source": [
    "sorted(d, key=d.get, reverse=True)"
   ]
  },
  {
   "cell_type": "code",
   "execution_count": 110,
   "metadata": {
    "collapsed": true
   },
   "outputs": [],
   "source": [
    "df = pd.DataFrame()"
   ]
  },
  {
   "cell_type": "code",
   "execution_count": 117,
   "metadata": {
    "collapsed": true
   },
   "outputs": [],
   "source": [
    "t = Text(\"\"\"\n",
    "Nous étions à l'Étude, quand le Proviseur entra, suivi d'un\n",
    "nouveau habillé en bourgeois et d'un garçon de classe qui portait\n",
    "un grand pupitre. Ceux qui dormaient se réveillèrent, et chacun se\n",
    "leva comme surpris dans son travail.\n",
    "\"\"\", lang='fra')\n"
   ]
  },
  {
   "cell_type": "code",
   "execution_count": 122,
   "metadata": {
    "collapsed": false
   },
   "outputs": [
    {
     "data": {
      "text/plain": [
       "['quand',\n",
       " 'étions',\n",
       " 'habillé',\n",
       " 'chacun',\n",
       " 'ceux',\n",
       " 'surpris',\n",
       " 'nouveau',\n",
       " 'son',\n",
       " 'bourgeois',\n",
       " 'grand',\n",
       " 'nous',\n",
       " 'le',\n",
       " 'comme',\n",
       " 'garçon',\n",
       " 'proviseur',\n",
       " 'en',\n",
       " 'et',\n",
       " 'entra',\n",
       " 'dans',\n",
       " 'à',\n",
       " 'un',\n",
       " 'réveillèrent',\n",
       " 'classe',\n",
       " 'de',\n",
       " 'pupitre',\n",
       " 'travail',\n",
       " 'lev',\n",
       " 'se',\n",
       " 'qui',\n",
       " 'portait',\n",
       " 'suivi',\n",
       " 'dormaient']"
      ]
     },
     "execution_count": 122,
     "metadata": {},
     "output_type": "execute_result"
    }
   ],
   "source": [
    "t.lemmas"
   ]
  },
  {
   "cell_type": "code",
   "execution_count": null,
   "metadata": {
    "collapsed": true
   },
   "outputs": [],
   "source": []
  }
 ],
 "metadata": {
  "kernelspec": {
   "display_name": "Python 3",
   "language": "python",
   "name": "python3"
  },
  "language_info": {
   "codemirror_mode": {
    "name": "ipython",
    "version": 3
   },
   "file_extension": ".py",
   "mimetype": "text/x-python",
   "name": "python",
   "nbconvert_exporter": "python",
   "pygments_lexer": "ipython3",
   "version": "3.5.1"
  }
 },
 "nbformat": 4,
 "nbformat_minor": 0
}
