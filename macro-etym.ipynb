{
 "cells": [
  {
   "cell_type": "code",
   "execution_count": 2,
   "metadata": {
    "collapsed": false
   },
   "outputs": [],
   "source": [
    "import pandas as pd\n",
    "import sh\n",
    "from collections import Counter\n",
    "from nltk import word_tokenize\n",
    "from nltk.tag import pos_tag\n",
    "from string import punctuation\n",
    "from pycountry import languages\n",
    "from nltk.corpus import stopwords\n",
    "%matplotlib inline\n",
    "import matplotlib\n",
    "matplotlib.style.use('ggplot')\n",
    "from nltk.stem import WordNetLemmatizer\n",
    "from nltk.corpus import wordnet"
   ]
  },
  {
   "cell_type": "markdown",
   "metadata": {},
   "source": [
    "I made the file below, etymwn-smaller.tsv, by running these unix commands: \n",
    "\n",
    "First, get only those entries with the relation \"rel:etymology\": \n",
    "\n",
    "```sh\n",
    "    grep \"rel:etymology\" etymwn.tsv > etymwn-small.tsv \n",
    "```\n",
    "\n",
    "Now we can remove the relation column, since it's all \"rel:etymology\": \n",
    "\n",
    "```sh\n",
    "    cat etymwn-small.tsv | cut -f1,3 > etymwn-smaller.tsv\n",
    "```"
   ]
  },
  {
   "cell_type": "code",
   "execution_count": 3,
   "metadata": {
    "collapsed": false
   },
   "outputs": [],
   "source": [
    "etymwn=pd.read_csv('etymwn-smaller.tsv', sep='\\t')\n",
    "etymwn.columns = ['word', 'parent']"
   ]
  },
  {
   "cell_type": "code",
   "execution_count": 4,
   "metadata": {
    "collapsed": true
   },
   "outputs": [
    {
     "data": {
      "text/html": [
       "<div>\n",
       "<table border=\"1\" class=\"dataframe\">\n",
       "  <thead>\n",
       "    <tr style=\"text-align: right;\">\n",
       "      <th></th>\n",
       "      <th>word</th>\n",
       "      <th>parent</th>\n",
       "    </tr>\n",
       "  </thead>\n",
       "  <tbody>\n",
       "    <tr>\n",
       "      <th>0</th>\n",
       "      <td>afr: Japan</td>\n",
       "      <td>nld: Japan</td>\n",
       "    </tr>\n",
       "    <tr>\n",
       "      <th>1</th>\n",
       "      <td>afr: Maandag</td>\n",
       "      <td>nld: maandag</td>\n",
       "    </tr>\n",
       "    <tr>\n",
       "      <th>2</th>\n",
       "      <td>afr: Maleis</td>\n",
       "      <td>nld: Maleis</td>\n",
       "    </tr>\n",
       "    <tr>\n",
       "      <th>3</th>\n",
       "      <td>afr: Pieter</td>\n",
       "      <td>nld: Pieter</td>\n",
       "    </tr>\n",
       "    <tr>\n",
       "      <th>4</th>\n",
       "      <td>afr: Woensdag</td>\n",
       "      <td>afr: woensdag</td>\n",
       "    </tr>\n",
       "    <tr>\n",
       "      <th>5</th>\n",
       "      <td>afr: aalmoes</td>\n",
       "      <td>nld: aalmoes</td>\n",
       "    </tr>\n",
       "    <tr>\n",
       "      <th>6</th>\n",
       "      <td>afr: aalmoesenier</td>\n",
       "      <td>nld: aalmoezenier</td>\n",
       "    </tr>\n",
       "    <tr>\n",
       "      <th>7</th>\n",
       "      <td>afr: aalwee</td>\n",
       "      <td>nld: aloë</td>\n",
       "    </tr>\n",
       "    <tr>\n",
       "      <th>8</th>\n",
       "      <td>afr: aambeeld</td>\n",
       "      <td>nld: aambeeld</td>\n",
       "    </tr>\n",
       "    <tr>\n",
       "      <th>9</th>\n",
       "      <td>afr: aambei</td>\n",
       "      <td>nld: aambei</td>\n",
       "    </tr>\n",
       "    <tr>\n",
       "      <th>10</th>\n",
       "      <td>afr: aanbieder</td>\n",
       "      <td>nld: aanbieder</td>\n",
       "    </tr>\n",
       "    <tr>\n",
       "      <th>11</th>\n",
       "      <td>afr: aanbieding</td>\n",
       "      <td>nld: aanbieding</td>\n",
       "    </tr>\n",
       "    <tr>\n",
       "      <th>12</th>\n",
       "      <td>afr: aanbod</td>\n",
       "      <td>nld: aanbod</td>\n",
       "    </tr>\n",
       "    <tr>\n",
       "      <th>13</th>\n",
       "      <td>afr: aand</td>\n",
       "      <td>nld: avond</td>\n",
       "    </tr>\n",
       "    <tr>\n",
       "      <th>14</th>\n",
       "      <td>afr: aandete</td>\n",
       "      <td>nld: avondeten</td>\n",
       "    </tr>\n",
       "    <tr>\n",
       "      <th>15</th>\n",
       "      <td>afr: aanvaller</td>\n",
       "      <td>nld: aanvaller</td>\n",
       "    </tr>\n",
       "    <tr>\n",
       "      <th>16</th>\n",
       "      <td>afr: aap</td>\n",
       "      <td>nld: aap</td>\n",
       "    </tr>\n",
       "    <tr>\n",
       "      <th>17</th>\n",
       "      <td>afr: aarde</td>\n",
       "      <td>nld: aarde</td>\n",
       "    </tr>\n",
       "    <tr>\n",
       "      <th>18</th>\n",
       "      <td>afr: aartappel</td>\n",
       "      <td>nld: aardappel</td>\n",
       "    </tr>\n",
       "    <tr>\n",
       "      <th>19</th>\n",
       "      <td>afr: aartsengel</td>\n",
       "      <td>nld: aartsengel</td>\n",
       "    </tr>\n",
       "    <tr>\n",
       "      <th>20</th>\n",
       "      <td>afr: aasvoël</td>\n",
       "      <td>nld: aasvogel</td>\n",
       "    </tr>\n",
       "    <tr>\n",
       "      <th>21</th>\n",
       "      <td>afr: aftree</td>\n",
       "      <td>nld: aftreden</td>\n",
       "    </tr>\n",
       "    <tr>\n",
       "      <th>22</th>\n",
       "      <td>afr: afvaar</td>\n",
       "      <td>afr: af-</td>\n",
       "    </tr>\n",
       "    <tr>\n",
       "      <th>23</th>\n",
       "      <td>afr: afvaar</td>\n",
       "      <td>afr: vaar</td>\n",
       "    </tr>\n",
       "    <tr>\n",
       "      <th>24</th>\n",
       "      <td>afr: ag</td>\n",
       "      <td>nld: ach</td>\n",
       "    </tr>\n",
       "    <tr>\n",
       "      <th>25</th>\n",
       "      <td>afr: ag</td>\n",
       "      <td>nld: acht</td>\n",
       "    </tr>\n",
       "    <tr>\n",
       "      <th>26</th>\n",
       "      <td>afr: ag</td>\n",
       "      <td>nld: achten</td>\n",
       "    </tr>\n",
       "    <tr>\n",
       "      <th>27</th>\n",
       "      <td>afr: agt</td>\n",
       "      <td>nld: acht</td>\n",
       "    </tr>\n",
       "    <tr>\n",
       "      <th>28</th>\n",
       "      <td>afr: agttien</td>\n",
       "      <td>nld: achttien</td>\n",
       "    </tr>\n",
       "    <tr>\n",
       "      <th>29</th>\n",
       "      <td>afr: aktinium</td>\n",
       "      <td>nld: actinium</td>\n",
       "    </tr>\n",
       "    <tr>\n",
       "      <th>...</th>\n",
       "      <td>...</td>\n",
       "      <td>...</td>\n",
       "    </tr>\n",
       "    <tr>\n",
       "      <th>473402</th>\n",
       "      <td>zsm: ۏيݢينتيليون</td>\n",
       "      <td>eng: vigintillion</td>\n",
       "    </tr>\n",
       "    <tr>\n",
       "      <th>473403</th>\n",
       "      <td>zsm: ݢميلن</td>\n",
       "      <td>jav: gamelan</td>\n",
       "    </tr>\n",
       "    <tr>\n",
       "      <th>473404</th>\n",
       "      <td>zsm: ݢوݢول</td>\n",
       "      <td>eng: googol</td>\n",
       "    </tr>\n",
       "    <tr>\n",
       "      <th>473405</th>\n",
       "      <td>zsm: ݢوݢولڤليکس</td>\n",
       "      <td>eng: googolplex</td>\n",
       "    </tr>\n",
       "    <tr>\n",
       "      <th>473406</th>\n",
       "      <td>zsm: ݢيئيشا</td>\n",
       "      <td>jpn: 芸者</td>\n",
       "    </tr>\n",
       "    <tr>\n",
       "      <th>473407</th>\n",
       "      <td>zul: ikhulu</td>\n",
       "      <td>zul: khulu</td>\n",
       "    </tr>\n",
       "    <tr>\n",
       "      <th>473408</th>\n",
       "      <td>zul: inhlamvu yeso</td>\n",
       "      <td>zul: inhlamvu</td>\n",
       "    </tr>\n",
       "    <tr>\n",
       "      <th>473409</th>\n",
       "      <td>zul: inhlamvu yeso</td>\n",
       "      <td>zul: iso</td>\n",
       "    </tr>\n",
       "    <tr>\n",
       "      <th>473410</th>\n",
       "      <td>zul: inhlamvu yeso</td>\n",
       "      <td>zul: ya-</td>\n",
       "    </tr>\n",
       "    <tr>\n",
       "      <th>473411</th>\n",
       "      <td>zul: inja yasendle</td>\n",
       "      <td>zul: indle</td>\n",
       "    </tr>\n",
       "    <tr>\n",
       "      <th>473412</th>\n",
       "      <td>zul: inja yasendle</td>\n",
       "      <td>zul: inja</td>\n",
       "    </tr>\n",
       "    <tr>\n",
       "      <th>473413</th>\n",
       "      <td>zul: inja yasendle</td>\n",
       "      <td>zul: ya-</td>\n",
       "    </tr>\n",
       "    <tr>\n",
       "      <th>473414</th>\n",
       "      <td>zul: inkosikazi</td>\n",
       "      <td>zul: -kazi</td>\n",
       "    </tr>\n",
       "    <tr>\n",
       "      <th>473415</th>\n",
       "      <td>zul: inkosikazi</td>\n",
       "      <td>zul: inkosi</td>\n",
       "    </tr>\n",
       "    <tr>\n",
       "      <th>473416</th>\n",
       "      <td>zul: iresiphi</td>\n",
       "      <td>zul: recipe</td>\n",
       "    </tr>\n",
       "    <tr>\n",
       "      <th>473417</th>\n",
       "      <td>zul: isikhulu</td>\n",
       "      <td>zul: khulu</td>\n",
       "    </tr>\n",
       "    <tr>\n",
       "      <th>473418</th>\n",
       "      <td>zul: isintu</td>\n",
       "      <td>zul: -ntu</td>\n",
       "    </tr>\n",
       "    <tr>\n",
       "      <th>473419</th>\n",
       "      <td>zul: isintu</td>\n",
       "      <td>zul: isi-</td>\n",
       "    </tr>\n",
       "    <tr>\n",
       "      <th>473420</th>\n",
       "      <td>zul: u-ayisikhilimu</td>\n",
       "      <td>zul: ice cream</td>\n",
       "    </tr>\n",
       "    <tr>\n",
       "      <th>473421</th>\n",
       "      <td>zul: ubude</td>\n",
       "      <td>zul: de</td>\n",
       "    </tr>\n",
       "    <tr>\n",
       "      <th>473422</th>\n",
       "      <td>zul: ubukhulu</td>\n",
       "      <td>zul: khulu</td>\n",
       "    </tr>\n",
       "    <tr>\n",
       "      <th>473423</th>\n",
       "      <td>zul: ubuncane</td>\n",
       "      <td>zul: ncane</td>\n",
       "    </tr>\n",
       "    <tr>\n",
       "      <th>473424</th>\n",
       "      <td>zul: ubuntu</td>\n",
       "      <td>zul: -ntu</td>\n",
       "    </tr>\n",
       "    <tr>\n",
       "      <th>473425</th>\n",
       "      <td>zul: ubuntu</td>\n",
       "      <td>zul: ubu-</td>\n",
       "    </tr>\n",
       "    <tr>\n",
       "      <th>473426</th>\n",
       "      <td>zul: ufishi</td>\n",
       "      <td>zul: fish</td>\n",
       "    </tr>\n",
       "    <tr>\n",
       "      <th>473427</th>\n",
       "      <td>zul: umgwaqana</td>\n",
       "      <td>zul: -ana</td>\n",
       "    </tr>\n",
       "    <tr>\n",
       "      <th>473428</th>\n",
       "      <td>zul: umgwaqana</td>\n",
       "      <td>zul: umgwaqo</td>\n",
       "    </tr>\n",
       "    <tr>\n",
       "      <th>473429</th>\n",
       "      <td>zul: umntwana</td>\n",
       "      <td>zul: -ana</td>\n",
       "    </tr>\n",
       "    <tr>\n",
       "      <th>473430</th>\n",
       "      <td>zul: umntwana</td>\n",
       "      <td>zul: umuntu</td>\n",
       "    </tr>\n",
       "    <tr>\n",
       "      <th>473431</th>\n",
       "      <td>zul: uphethiloli</td>\n",
       "      <td>zul: petrol</td>\n",
       "    </tr>\n",
       "  </tbody>\n",
       "</table>\n",
       "<p>473432 rows × 2 columns</p>\n",
       "</div>"
      ],
      "text/plain": [
       "                       word             parent\n",
       "0                afr: Japan         nld: Japan\n",
       "1              afr: Maandag       nld: maandag\n",
       "2               afr: Maleis        nld: Maleis\n",
       "3               afr: Pieter        nld: Pieter\n",
       "4             afr: Woensdag      afr: woensdag\n",
       "5              afr: aalmoes       nld: aalmoes\n",
       "6         afr: aalmoesenier  nld: aalmoezenier\n",
       "7               afr: aalwee          nld: aloë\n",
       "8             afr: aambeeld      nld: aambeeld\n",
       "9               afr: aambei        nld: aambei\n",
       "10           afr: aanbieder     nld: aanbieder\n",
       "11          afr: aanbieding    nld: aanbieding\n",
       "12              afr: aanbod        nld: aanbod\n",
       "13                afr: aand         nld: avond\n",
       "14             afr: aandete     nld: avondeten\n",
       "15           afr: aanvaller     nld: aanvaller\n",
       "16                 afr: aap           nld: aap\n",
       "17               afr: aarde         nld: aarde\n",
       "18           afr: aartappel     nld: aardappel\n",
       "19          afr: aartsengel    nld: aartsengel\n",
       "20             afr: aasvoël      nld: aasvogel\n",
       "21              afr: aftree      nld: aftreden\n",
       "22              afr: afvaar           afr: af-\n",
       "23              afr: afvaar          afr: vaar\n",
       "24                  afr: ag           nld: ach\n",
       "25                  afr: ag          nld: acht\n",
       "26                  afr: ag        nld: achten\n",
       "27                 afr: agt          nld: acht\n",
       "28             afr: agttien      nld: achttien\n",
       "29            afr: aktinium      nld: actinium\n",
       "...                     ...                ...\n",
       "473402     zsm: ۏيݢينتيليون  eng: vigintillion\n",
       "473403           zsm: ݢميلن       jav: gamelan\n",
       "473404           zsm: ݢوݢول        eng: googol\n",
       "473405      zsm: ݢوݢولڤليکس    eng: googolplex\n",
       "473406          zsm: ݢيئيشا            jpn: 芸者\n",
       "473407          zul: ikhulu         zul: khulu\n",
       "473408   zul: inhlamvu yeso      zul: inhlamvu\n",
       "473409   zul: inhlamvu yeso           zul: iso\n",
       "473410   zul: inhlamvu yeso           zul: ya-\n",
       "473411   zul: inja yasendle         zul: indle\n",
       "473412   zul: inja yasendle          zul: inja\n",
       "473413   zul: inja yasendle           zul: ya-\n",
       "473414      zul: inkosikazi         zul: -kazi\n",
       "473415      zul: inkosikazi        zul: inkosi\n",
       "473416        zul: iresiphi        zul: recipe\n",
       "473417        zul: isikhulu         zul: khulu\n",
       "473418          zul: isintu          zul: -ntu\n",
       "473419          zul: isintu          zul: isi-\n",
       "473420  zul: u-ayisikhilimu     zul: ice cream\n",
       "473421           zul: ubude            zul: de\n",
       "473422        zul: ubukhulu         zul: khulu\n",
       "473423        zul: ubuncane         zul: ncane\n",
       "473424          zul: ubuntu          zul: -ntu\n",
       "473425          zul: ubuntu          zul: ubu-\n",
       "473426          zul: ufishi          zul: fish\n",
       "473427       zul: umgwaqana          zul: -ana\n",
       "473428       zul: umgwaqana       zul: umgwaqo\n",
       "473429        zul: umntwana          zul: -ana\n",
       "473430        zul: umntwana        zul: umuntu\n",
       "473431     zul: uphethiloli        zul: petrol\n",
       "\n",
       "[473432 rows x 2 columns]"
      ]
     },
     "execution_count": 4,
     "metadata": {},
     "output_type": "execute_result"
    }
   ],
   "source": [
    "etymwn"
   ]
  },
  {
   "cell_type": "code",
   "execution_count": 106,
   "metadata": {
    "collapsed": false
   },
   "outputs": [],
   "source": [
    "class LangList():\n",
    "    def __init__(self, langs): \n",
    "        self.langs = langs\n",
    "            \n",
    "    def __repr__(self): \n",
    "        return str(self.langs)\n",
    "    \n",
    "    @property\n",
    "    def stats(self): \n",
    "        counter = Counter(self.langs)\n",
    "        stats = {}\n",
    "        for lang in counter.keys(): \n",
    "            stats[lang] = (counter[lang] / len(self.langs))*100 \n",
    "        return stats\n",
    "\n",
    "class Word(): \n",
    "    def __init__(self, word, lang='eng'): \n",
    "        self.lang = lang\n",
    "        self.word = word\n",
    "        \n",
    "    def __repr__(self): \n",
    "        return '%s (%s)' % (self.word, self.lang)\n",
    "    \n",
    "    def __str__(self): \n",
    "        return self.word\n",
    "        \n",
    "    def oldVersions(self, language): \n",
    "        \"\"\"\n",
    "        Returns a list of older versions of a language, such that given \"eng\" (Modern English)\n",
    "        it will return \"enm\" (Middle English). This is used for filtering out current languages\n",
    "        in the ignoreSelf option of parents() below. \n",
    "        \"\"\"\n",
    "        if language == 'eng': \n",
    "            return ['enm']\n",
    "        if language == 'fra': \n",
    "            return ['frm', 'xno'] # Middle French\n",
    "        if language == 'dut':\n",
    "            return ['dum'] # Middle Dutch\n",
    "        if language == 'gle': # Irish\n",
    "            return ['mga'] # Middle Irish \n",
    "        # TODO: add other languages here. \n",
    "        else: \n",
    "            return []\n",
    "        \n",
    "    @property\n",
    "    def parents(self, ignoreAffixes=True, ignoreSelf=True):\n",
    "        \"\"\" \n",
    "        ignoreAffixes will remove suffixes like -ly, so that the parent list for\n",
    "        \"universally\" returns \"universal (eng)\" instead of \"universal (eng), -ly (eng).\" \n",
    "        \n",
    "        ignoreSelf will ignore etymologies in the current language and slightly older versions of\n",
    "        that language, so that it skips \"universal (eng),\" and goes straight to the good\n",
    "        stuff, i.e. \"universalis (lat).\" Given a word in English, it will skip all other\n",
    "        English and Middle English ancestors, but won't skip Old English. \n",
    "        \"\"\"\n",
    "        word = self.word\n",
    "        language = self.lang\n",
    "        \n",
    "        # Finds the first-generation ancestor(s) of a word. \n",
    "        rawParentList = etymwn[etymwn['word']==language + \": \" + word]['parent'].tolist()\n",
    "        parentList = [self.split(parent) for parent in rawParentList] \n",
    "        if ignoreAffixes: \n",
    "            parentList = [p for p in parentList if p.word[0] is not '-']\n",
    "            parentList = [p for p in parentList if p.word[-1] is not '-']\n",
    "        if ignoreSelf: \n",
    "            newParents = [] \n",
    "            for parent in parentList: \n",
    "                if parent.lang == language or parent.lang in self.oldVersions(language): \n",
    "                    for otherParent in parent.parents: # Go deeper. \n",
    "                        newParents.append(otherParent)\n",
    "                else: \n",
    "                    newParents.append(parent)\n",
    "            parentList = newParents\n",
    "        return parentList\n",
    "    \n",
    "    # TODO: foreignParents\n",
    "    \n",
    "    @property\n",
    "    def parentLanguages(self):\n",
    "        parentLangs = []\n",
    "        for parent in self.parents: \n",
    "            parentLangs.append(parent.lang)\n",
    "        return LangList(parentLangs)\n",
    "    \n",
    "    @property\n",
    "    def grandparents(self): \n",
    "        return [Word(parent.word, lang=parent.lang).parents for parent in self.parents]\n",
    "    \n",
    "    @property\n",
    "    def grandparentLanguages(self):\n",
    "        grandparentLangs = []\n",
    "        for grandparentList in self.grandparents: \n",
    "            for grandparent in grandparentList: \n",
    "                grandparentLangs.append(grandparent.lang)\n",
    "        return LangList(grandparentLangs)\n",
    "    \n",
    "    def split(self, expression): \n",
    "        \"\"\" Takes and expression in the form 'enm: not' and returns \n",
    "        a Word object where word.lang is 'enm' and word.word is 'not'. \n",
    "        \"\"\"\n",
    "        parts = expression.split(':')\n",
    "        return Word(parts[1].strip(), parts[0])\n",
    "\n",
    "class Text():\n",
    "    def __init__(self, text, lang='eng'): \n",
    "        self.text = text\n",
    "        self.lang = lang\n",
    "    \n",
    "    @property\n",
    "    def tokens(self): \n",
    "        return word_tokenize(self.text)\n",
    "        \n",
    "    @property\n",
    "    def cleanTokens(self, removeStopwords=True): \n",
    "        clean = [token for token in self.tokens if token not in punctuation]\n",
    "        clean = [token.lower() for token in clean]\n",
    "        clean = [token for token in clean if token.isalpha()]\n",
    "        if removeStopwords:\n",
    "            clean = self.removeStopwords(clean)\n",
    "        return clean\n",
    "    \n",
    "    def removeStopwords(self, tokens): \n",
    "        availableStopwords = \"danish english french hungarian norwegian spanish \"\\\n",
    "        \"turkish dutch finnish german italian portuguese russian swedish\".split()\n",
    "        stopDict = {lang[:3]: lang for lang in availableStopwords}\n",
    "        if self.lang in stopDict: \n",
    "            stops = stopwords.words(stopDict[self.lang])\n",
    "            return [token for token in tokens if token not in stops]\n",
    "        else: \n",
    "            return tokens\n",
    "\n",
    "    @property\n",
    "    def types(self): \n",
    "        return set(self.cleanTokens)\n",
    "    \n",
    "    @property\n",
    "    def posTags(self):\n",
    "        return pos_tag(self.types)\n",
    "    \n",
    "    @property\n",
    "    def lemmas(self): \n",
    "        wordnetLemmatizer = WordNetLemmatizer()\n",
    "        lemmas = []\n",
    "        for word, pos in self.posTags:\n",
    "            pos = self.get_wordnet_pos(pos)\n",
    "            if pos == '': \n",
    "                pos = 'n'\n",
    "            lemmas.append(wordnetLemmatizer.lemmatize(word, pos))\n",
    "        return lemmas\n",
    "    \n",
    "    def get_wordnet_pos(self, treebank_tag):\n",
    "        if treebank_tag.startswith('J'):\n",
    "            return wordnet.ADJ\n",
    "        elif treebank_tag.startswith('V'):\n",
    "            return wordnet.VERB\n",
    "        elif treebank_tag.startswith('N'):\n",
    "            return wordnet.NOUN\n",
    "        elif treebank_tag.startswith('R'):\n",
    "            return wordnet.ADV\n",
    "        else:\n",
    "            return ''\n",
    "        \n",
    "    @property\n",
    "    def wordObjects(self): \n",
    "        return [Word(token) for token in self.lemmas]\n",
    "    \n",
    "    def showMacroEtym(self): \n",
    "        for word in self.wordObjects: \n",
    "            print(word, word.parents)\n",
    "    \n",
    "    def getStats(self, pretty=False): \n",
    "        statsList = [word.parentLanguages.stats for word in self.wordObjects]\n",
    "        stats = {}\n",
    "        for item in statsList: \n",
    "            if len(item) > 0: \n",
    "                for lang, perc in item.items(): \n",
    "                    if lang not in stats: \n",
    "                        stats[lang] = perc\n",
    "                    else: \n",
    "                        stats[lang] += perc\n",
    "        allPercs = sum(stats.values())\n",
    "        for lang, perc in stats.items(): \n",
    "            stats[lang] = ( perc / allPercs ) * 100\n",
    "        \n",
    "        if pretty:\n",
    "            prettyStats = {}\n",
    "            for lang, perc in stats.items(): \n",
    "                prettyLang = languages.get(iso639_3_code=lang).name\n",
    "                prettyStats[prettyLang] = round(perc, 2) # rename the key\n",
    "            return prettyStats\n",
    "        else: \n",
    "            return stats\n",
    "\n",
    "    langDict = {'Germanic': ['eng', 'enm', 'ang', 'deu', 'dut', 'non'],\n",
    "                'Latinate': ['fra', 'frm', 'fro', 'lat'], \n",
    "                'Iranian': ['fas']}\n",
    "    \n",
    "    def getFamily(self, language): \n",
    "        for family, children in self.langDict.items(): \n",
    "            if language in children: \n",
    "                return family\n",
    "        return 'Other'\n",
    "    \n",
    "    def getFamilyStats(self): \n",
    "        stats = self.getStats()\n",
    "        families = {}\n",
    "        for lang, perc in stats.items(): \n",
    "            fam = self.getFamily(lang)\n",
    "            print(fam, lang, perc)\n",
    "            if fam in families: \n",
    "                families[fam].append((lang, perc))\n",
    "            else: \n",
    "                families[fam] = [(lang, perc)]\n",
    "        return families\n",
    "    \n",
    "    def compileFamilyStats(self): \n",
    "        families = self.getFamilyStats()\n",
    "        totals = {}\n",
    "        for family, langs in families.items(): \n",
    "            totals[family] = 0\n",
    "            for lang in langs: \n",
    "                totals[family] += lang[1]\n",
    "        return totals\n",
    "    \n",
    "    @property\n",
    "    def stats(self): \n",
    "        return self.getStats()\n",
    "    \n",
    "    def prettyStats(self): \n",
    "        return self.getStats(pretty=True)\n",
    "    \n",
    "    @property\n",
    "    def familyStats(self): \n",
    "        return self.compileFamilyStats()\n",
    "\n",
    "    def showPie(self):\n",
    "        pd.Series(self.prettyStats()).plot(kind='pie', figsize=(6,6))"
   ]
  },
  {
   "cell_type": "code",
   "execution_count": 89,
   "metadata": {
    "collapsed": false
   },
   "outputs": [
    {
     "data": {
      "text/plain": [
       "True"
      ]
     },
     "execution_count": 89,
     "metadata": {},
     "output_type": "execute_result"
    }
   ],
   "source": [
    "d = {'a', 'b', 'c'}\n",
    "'b' in d"
   ]
  },
  {
   "cell_type": "code",
   "execution_count": 31,
   "metadata": {
    "collapsed": false
   },
   "outputs": [
    {
     "name": "stdout",
     "output_type": "stream",
     "text": [
      "lat\n"
     ]
    }
   ],
   "source": [
    "Word('universally').parentLanguages.familyStats"
   ]
  },
  {
   "cell_type": "code",
   "execution_count": 32,
   "metadata": {
    "collapsed": false
   },
   "outputs": [
    {
     "data": {
      "text/plain": [
       "{'ang': 100.0}"
      ]
     },
     "execution_count": 32,
     "metadata": {},
     "output_type": "execute_result"
    }
   ],
   "source": [
    "Word('man').parentLanguages.stats"
   ]
  },
  {
   "cell_type": "code",
   "execution_count": 8,
   "metadata": {
    "collapsed": false
   },
   "outputs": [
    {
     "data": {
      "text/plain": [
       "{'lat': 100.0}"
      ]
     },
     "execution_count": 8,
     "metadata": {},
     "output_type": "execute_result"
    }
   ],
   "source": [
    "Word('universally').parentLanguages.stats"
   ]
  },
  {
   "cell_type": "code",
   "execution_count": 9,
   "metadata": {
    "collapsed": false
   },
   "outputs": [
    {
     "data": {
      "text/plain": [
       "[admiration (fra)]"
      ]
     },
     "execution_count": 9,
     "metadata": {},
     "output_type": "execute_result"
    }
   ],
   "source": [
    "Word('admiration').parents"
   ]
  },
  {
   "cell_type": "code",
   "execution_count": 85,
   "metadata": {
    "collapsed": false
   },
   "outputs": [
    {
     "data": {
      "text/plain": [
       "{'ang': 37.03703703703704,\n",
       " 'fas': 3.7037037037037033,\n",
       " 'fro': 14.814814814814813,\n",
       " 'lat': 33.33333333333333,\n",
       " 'non': 11.11111111111111}"
      ]
     },
     "execution_count": 85,
     "metadata": {},
     "output_type": "execute_result"
    }
   ],
   "source": [
    "t = Text('It is a truth universally acknowledged, that a single man in possession of a good fortune,'\\\n",
    "         'must be in want of a wife.')\n",
    "t.stats"
   ]
  },
  {
   "cell_type": "code",
   "execution_count": 105,
   "metadata": {
    "collapsed": false
   },
   "outputs": [
    {
     "name": "stdout",
     "output_type": "stream",
     "text": [
      "Latinate fro 14.814814814814813\n",
      "Iranian fas 3.7037037037037033\n",
      "Germanic ang 37.03703703703704\n",
      "Germanic non 11.11111111111111\n",
      "Latinate lat 33.33333333333333\n"
     ]
    },
    {
     "data": {
      "text/plain": [
       "{'Germanic': 48.14814814814815,\n",
       " 'Iranian': 3.7037037037037033,\n",
       " 'Latinate': 48.14814814814814}"
      ]
     },
     "execution_count": 105,
     "metadata": {},
     "output_type": "execute_result"
    }
   ],
   "source": [
    "t = Text('It is a truth universally acknowledged, that a single man in possession of a good fortune,'\\\n",
    "         'must be in want of a wife.')\n",
    "t.familyStats"
   ]
  },
  {
   "cell_type": "code",
   "execution_count": 75,
   "metadata": {
    "collapsed": false
   },
   "outputs": [
    {
     "data": {
      "text/plain": [
       "'Persian'"
      ]
     },
     "execution_count": 75,
     "metadata": {},
     "output_type": "execute_result"
    }
   ],
   "source": [
    "languages.get(iso639_3_code='fas').name"
   ]
  },
  {
   "cell_type": "code",
   "execution_count": 39,
   "metadata": {
    "collapsed": false
   },
   "outputs": [
    {
     "data": {
      "text/plain": [
       "{'Anglo-Norman': 25.0,\n",
       " 'French': 25.0,\n",
       " 'French, Middle (ca. 1400-1600)': 25.0,\n",
       " 'Latin': 25.0}"
      ]
     },
     "execution_count": 39,
     "metadata": {},
     "output_type": "execute_result"
    }
   ],
   "source": [
    "t = Text('\"What is it that is magnificent?\" and the count bent his eyes in various '\\\n",
    "         'directions in quest of the object of her admiration.')\n",
    "t.prettyStats()"
   ]
  },
  {
   "cell_type": "code",
   "execution_count": 40,
   "metadata": {
    "collapsed": false
   },
   "outputs": [
    {
     "data": {
      "image/png": "[encoded data removed]",
      "text/plain": [
       "<matplotlib.figure.Figure at 0x7ffb35b9bf98>"
      ]
     },
     "metadata": {},
     "output_type": "display_data"
    }
   ],
   "source": [
    "t.showPie()\n",
    "# TODO: make colors prettier"
   ]
  },
  {
   "cell_type": "code",
   "execution_count": null,
   "metadata": {
    "collapsed": true
   },
   "outputs": [],
   "source": []
  }
 ],
 "metadata": {
  "kernelspec": {
   "display_name": "Python 3",
   "language": "python",
   "name": "python3"
  },
  "language_info": {
   "codemirror_mode": {
    "name": "ipython",
    "version": 3
   },
   "file_extension": ".py",
   "mimetype": "text/x-python",
   "name": "python",
   "nbconvert_exporter": "python",
   "pygments_lexer": "ipython3",
   "version": "3.5.1"
  }
 },
 "nbformat": 4,
 "nbformat_minor": 0
}
